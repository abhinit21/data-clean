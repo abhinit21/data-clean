{
 "cells": [
  {
   "cell_type": "markdown",
   "source": [
    "Section Discard"
   ],
   "metadata": {
    "collapsed": false
   }
  },
  {
   "cell_type": "code",
   "execution_count": null,
   "outputs": [],
   "source": [
    "import pandas as pd"
   ],
   "metadata": {
    "collapsed": false
   }
  },
  {
   "cell_type": "code",
   "execution_count": 4,
   "outputs": [],
   "source": [
    "formd_funds = pd.read_csv('../cache/formd_funds.csv')\n",
    "formd_funds.to_pickle('../storage/formd_funds.pkl')"
   ],
   "metadata": {
    "collapsed": false
   }
  },
  {
   "cell_type": "code",
   "execution_count": 5,
   "outputs": [],
   "source": [
    "formadv_firms = pd.read_csv('../cache/formadv_firms.csv')\n",
    "formadv_firms.to_pickle('../storage/formadv_firms.pkl')"
   ],
   "metadata": {
    "collapsed": false
   }
  },
  {
   "cell_type": "code",
   "execution_count": 9,
   "outputs": [],
   "source": [
    "formadv_funds = pd.read_csv('../cache/formadv_funds.csv')\n",
    "formadv_funds.to_pickle('../storage/formadv_funds.pkl')"
   ],
   "metadata": {
    "collapsed": false
   }
  },
  {
   "cell_type": "code",
   "execution_count": 10,
   "outputs": [],
   "source": [
    "related_partners = pd.read_csv('../cache/related_partners.csv')\n",
    "related_partners.to_pickle('../storage/related_partners.pkl')"
   ],
   "metadata": {
    "collapsed": false
   }
  },
  {
   "cell_type": "code",
   "execution_count": 11,
   "outputs": [],
   "source": [
    "direct_owners = pd.read_csv('../cache/direct_owners.csv')\n",
    "direct_owners.to_pickle('../storage/direct_owners.pkl')"
   ],
   "metadata": {
    "collapsed": false
   }
  },
  {
   "cell_type": "markdown",
   "source": [
    "Section Discard"
   ],
   "metadata": {
    "collapsed": false
   }
  },
  {
   "cell_type": "code",
   "execution_count": 41,
   "outputs": [],
   "source": [
    "import numpy as np\n",
    "import pandas as pd"
   ],
   "metadata": {
    "collapsed": false
   }
  },
  {
   "cell_type": "code",
   "execution_count": 34,
   "outputs": [],
   "source": [
    "matches_firms = pd.read_csv('../data/matches_firms.csv')\n",
    "matches_funds = pd.read_csv('../data/matches_funds.csv')\n",
    "matches_owners = pd.read_csv('../data/matches_owners.csv')"
   ],
   "metadata": {
    "collapsed": false
   }
  },
  {
   "cell_type": "code",
   "execution_count": 45,
   "outputs": [
    {
     "data": {
      "text/plain": "array([['fund', 'matched_firm', 'firm_confidence', 'cik_no_fund',\n        'form_d_fund_id', 'crd_no_firm', 'form_adv_firm_id'],\n       ['fund', 'matched_fund', 'fund_confidence', 'cik_no_fund',\n        'form_d_fund_id', 'crd_no_fund', 'form_adv_fund_id']],\n      dtype=object)"
     },
     "execution_count": 45,
     "metadata": {},
     "output_type": "execute_result"
    }
   ],
   "source": [
    "np.vstack((np.array(matches_firms.columns), np.array(matches_funds.columns)))"
   ],
   "metadata": {
    "collapsed": false
   }
  }
 ],
 "metadata": {
  "kernelspec": {
   "display_name": "Python 3",
   "language": "python",
   "name": "python3"
  },
  "language_info": {
   "codemirror_mode": {
    "name": "ipython",
    "version": 2
   },
   "file_extension": ".py",
   "mimetype": "text/x-python",
   "name": "python",
   "nbconvert_exporter": "python",
   "pygments_lexer": "ipython2",
   "version": "2.7.6"
  }
 },
 "nbformat": 4,
 "nbformat_minor": 0
}
