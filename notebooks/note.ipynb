{
 "cells": [
  {
   "cell_type": "code",
   "execution_count": 1,
   "metadata": {
    "collapsed": true
   },
   "outputs": [],
   "source": [
    "import pandas as pd"
   ]
  },
  {
   "cell_type": "code",
   "execution_count": 2,
   "outputs": [],
   "source": [
    "matches_firm = pd.read_csv('../data/matches_firm.csv')\n",
    "matches_fund = pd.read_csv('../data/matches_fund.csv')\n",
    "matches_owners_firms = pd.read_csv('../data/matches_owners_firms.csv')"
   ],
   "metadata": {
    "collapsed": false
   }
  },
  {
   "cell_type": "code",
   "execution_count": 3,
   "outputs": [],
   "source": [
    "matches_fund_firms = pd.merge(matches_firm, matches_fund, left_on='cik_no', right_on='cik_no')\n",
    "\n",
    "# Formatting Data Frame\n",
    "filter_columns = ['cik_no', 'fund_name_x', 'matched_fund_name', 'matched_firm_name', 'crd_no_x', 'matched_fund_confidence', 'crd_no_y', 'matched_firm_confidence']\n",
    "matches_fund_firms = matches_fund_firms[filter_columns]\n",
    "matches_fund_firms.rename({'fund_name_x': 'fund_name', 'crd_no_x': 'crd_no_fund', 'crd_no_y': 'crd_no_firm'}, axis=1, inplace=True)"
   ],
   "metadata": {
    "collapsed": false
   }
  },
  {
   "cell_type": "code",
   "execution_count": 4,
   "outputs": [],
   "source": [
    "matches_fund_firms_owners = pd.merge(matches_fund_firms, matches_owners_firms, left_on='fund_name', right_on='formd_funds')\n",
    "\n",
    "# Formatting Data Frame\n",
    "filter_columns = ['cik_no_x', 'fund_name', 'matched_fund_name', 'matched_firm_name_x', 'related_partner', 'matched_owner_name', 'crd_no_fund', 'matched_fund_confidence', 'crd_no_firm', 'matched_firm_confidence', 'crd_no', 'matched_firmowners_confidence']\n",
    "matches_fund_firms_owners = matches_fund_firms_owners[filter_columns]\n",
    "matches_fund_firms_owners.rename({'cik_no_x': 'cik_no', 'matched_firm_name_x': 'matched_firm_name', 'crd_no': 'crd_no_owner'}, axis=1, inplace=True)"
   ],
   "metadata": {
    "collapsed": false
   }
  },
  {
   "cell_type": "code",
   "execution_count": 5,
   "outputs": [],
   "source": [
    "matches_fund_firms_owners.to_csv('../output/matches_fund_firms_owners.csv')"
   ],
   "metadata": {
    "collapsed": false
   }
  }
 ],
 "metadata": {
  "kernelspec": {
   "display_name": "Python 3",
   "language": "python",
   "name": "python3"
  },
  "language_info": {
   "codemirror_mode": {
    "name": "ipython",
    "version": 2
   },
   "file_extension": ".py",
   "mimetype": "text/x-python",
   "name": "python",
   "nbconvert_exporter": "python",
   "pygments_lexer": "ipython2",
   "version": "2.7.6"
  }
 },
 "nbformat": 4,
 "nbformat_minor": 0
}
