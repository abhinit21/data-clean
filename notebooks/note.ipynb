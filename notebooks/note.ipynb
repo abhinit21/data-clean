{
 "cells": [
  {
   "cell_type": "code",
   "execution_count": 1,
   "metadata": {
    "collapsed": true
   },
   "outputs": [],
   "source": [
    "import pandas as pd"
   ]
  },
  {
   "cell_type": "code",
   "execution_count": 2,
   "outputs": [],
   "source": [
    "direct_owners = pd.read_csv('../cache/direct_owners.csv')"
   ],
   "metadata": {
    "collapsed": false
   }
  },
  {
   "cell_type": "code",
   "execution_count": 3,
   "outputs": [
    {
     "data": {
      "text/plain": "   form_adv_firm_id                 direct_owners  crd_no_owners\n0               571       HITCHCOCK, SALENE MARIE           5685\n1             39521  COVATO, CHRISTOPHER, PHILLIP         173956\n2             49413                ESTHER, JOSEPH         299604\n3             17171         platts, John, Stephen         287888\n4              4880      PEARSON, MATTHEW, EDWARD         107213",
      "text/html": "<div>\n<style scoped>\n    .dataframe tbody tr th:only-of-type {\n        vertical-align: middle;\n    }\n\n    .dataframe tbody tr th {\n        vertical-align: top;\n    }\n\n    .dataframe thead th {\n        text-align: right;\n    }\n</style>\n<table border=\"1\" class=\"dataframe\">\n  <thead>\n    <tr style=\"text-align: right;\">\n      <th></th>\n      <th>form_adv_firm_id</th>\n      <th>direct_owners</th>\n      <th>crd_no_owners</th>\n    </tr>\n  </thead>\n  <tbody>\n    <tr>\n      <th>0</th>\n      <td>571</td>\n      <td>HITCHCOCK, SALENE MARIE</td>\n      <td>5685</td>\n    </tr>\n    <tr>\n      <th>1</th>\n      <td>39521</td>\n      <td>COVATO, CHRISTOPHER, PHILLIP</td>\n      <td>173956</td>\n    </tr>\n    <tr>\n      <th>2</th>\n      <td>49413</td>\n      <td>ESTHER, JOSEPH</td>\n      <td>299604</td>\n    </tr>\n    <tr>\n      <th>3</th>\n      <td>17171</td>\n      <td>platts, John, Stephen</td>\n      <td>287888</td>\n    </tr>\n    <tr>\n      <th>4</th>\n      <td>4880</td>\n      <td>PEARSON, MATTHEW, EDWARD</td>\n      <td>107213</td>\n    </tr>\n  </tbody>\n</table>\n</div>"
     },
     "execution_count": 3,
     "metadata": {},
     "output_type": "execute_result"
    }
   ],
   "source": [
    "direct_owners.head()"
   ],
   "metadata": {
    "collapsed": false
   }
  },
  {
   "cell_type": "code",
   "execution_count": 4,
   "outputs": [
    {
     "data": {
      "text/plain": "0               HITCHCOCK, SALENE MARIE\n1          COVATO, CHRISTOPHER, PHILLIP\n2                        ESTHER, JOSEPH\n3                 platts, John, Stephen\n4              PEARSON, MATTHEW, EDWARD\n                      ...              \n326932           PALUMBO, JAMES, GERARD\n326933            PALUMBO, CHERI, CAROL\n326934                 SHARMA, PRASHANT\n326935                Bilby, Mark, Glen\n326936    VENTRELLA, LUCIO, CHRISTOPHER\nName: direct_owners, Length: 326937, dtype: object"
     },
     "execution_count": 4,
     "metadata": {},
     "output_type": "execute_result"
    }
   ],
   "source": [
    "direct_owners.direct_owners"
   ],
   "metadata": {
    "collapsed": false
   }
  },
  {
   "cell_type": "code",
   "execution_count": null,
   "outputs": [],
   "source": [
    "def transform_direct_owners(value):\n",
    "    return value"
   ],
   "metadata": {
    "collapsed": false
   }
  },
  {
   "cell_type": "code",
   "execution_count": null,
   "outputs": [],
   "source": [
    "direct_owners.direct_owners = direct_owners.direct_owners.str.replace('(', '')\n",
    "direct_owners.direct_owners = direct_owners.direct_owners.str.replace(')', '')\n",
    "direct_owners.direct_owners = direct_owners.direct_owners.str.replace('.', '')\n",
    "direct_owners.direct_owners = direct_owners.direct_owners.str.replace(',', '')\n",
    "direct_owners.direct_owners = direct_owners.direct_owners.str.replace('-', '')\n",
    "direct_owners.direct_owners = direct_owners.direct_owners.apply(transform_direct_owners)\n",
    "direct_owners.direct_owners = direct_owners.direct_owners.str.title()"
   ],
   "metadata": {
    "collapsed": false
   }
  }
 ],
 "metadata": {
  "kernelspec": {
   "display_name": "Python 3",
   "language": "python",
   "name": "python3"
  },
  "language_info": {
   "codemirror_mode": {
    "name": "ipython",
    "version": 2
   },
   "file_extension": ".py",
   "mimetype": "text/x-python",
   "name": "python",
   "nbconvert_exporter": "python",
   "pygments_lexer": "ipython2",
   "version": "2.7.6"
  }
 },
 "nbformat": 4,
 "nbformat_minor": 0
}
