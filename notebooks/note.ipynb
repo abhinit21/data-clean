{
 "cells": [
  {
   "cell_type": "code",
   "execution_count": 42,
   "metadata": {
    "collapsed": true
   },
   "outputs": [],
   "source": [
    "import numpy as np\n",
    "import pandas as pd"
   ]
  },
  {
   "cell_type": "code",
   "execution_count": 43,
   "outputs": [],
   "source": [
    "related_partners = pd.read_csv('../data/formd_firmformdrelationship_merge_formd_firm.csv')\n",
    "direct_owners = pd.read_csv('../data/form_adv_directowner_merge_formadvfirm.csv')"
   ],
   "metadata": {
    "collapsed": false
   }
  },
  {
   "cell_type": "code",
   "execution_count": 44,
   "outputs": [],
   "source": [
    "related_partners['related_partners'] = related_partners.first_name + ' ' + related_partners.last_name"
   ],
   "metadata": {
    "collapsed": false
   }
  },
  {
   "cell_type": "code",
   "execution_count": 56,
   "outputs": [],
   "source": [
    "related_partners = related_partners.related_partners.str.title()"
   ],
   "metadata": {
    "collapsed": false
   }
  },
  {
   "cell_type": "code",
   "execution_count": 58,
   "outputs": [],
   "source": [
    "related_partners.to_pickle('../storage/related_partners.pkl')"
   ],
   "metadata": {
    "collapsed": false
   }
  },
  {
   "cell_type": "code",
   "execution_count": 46,
   "outputs": [],
   "source": [
    "def prefix_num(val):\n",
    "    idx = 0\n",
    "    while not val[idx].isalpha() and idx < len(val) - 1:\n",
    "        idx += 1\n",
    "\n",
    "    special_char = '/'\n",
    "    newVal = []\n",
    "    for name in val[idx:].split():\n",
    "        if special_char in name in name or any(char.isdigit() for char in name):\n",
    "            continue\n",
    "        newVal.append(name)\n",
    "\n",
    "    return ' '.join(newVal)"
   ],
   "metadata": {
    "collapsed": false
   }
  },
  {
   "cell_type": "code",
   "execution_count": 48,
   "outputs": [],
   "source": [
    "direct_owners.legal_name = direct_owners.legal_name.str.replace(',', '')\n",
    "direct_owners.legal_name = direct_owners.legal_name.str.replace('(', '')\n",
    "direct_owners.legal_name = direct_owners.legal_name.str.replace(')', '')\n",
    "direct_owners.legal_name = direct_owners.legal_name.apply(prefix_num)\n",
    "direct_owners.legal_name = direct_owners.legal_name.str.title()"
   ],
   "metadata": {
    "collapsed": false
   }
  },
  {
   "cell_type": "code",
   "execution_count": 52,
   "outputs": [],
   "source": [
    "direct_owners.dropna(inplace=True)"
   ],
   "metadata": {
    "collapsed": false
   }
  },
  {
   "cell_type": "code",
   "execution_count": 53,
   "outputs": [
    {
     "data": {
      "text/plain": "(326182, 1)"
     },
     "execution_count": 53,
     "metadata": {},
     "output_type": "execute_result"
    }
   ],
   "source": [
    "direct_owners.shape"
   ],
   "metadata": {
    "collapsed": false
   }
  },
  {
   "cell_type": "code",
   "execution_count": 59,
   "outputs": [],
   "source": [
    "direct_owners.to_pickle('../storage/direct_owners.pkl')"
   ],
   "metadata": {
    "collapsed": false
   }
  }
 ],
 "metadata": {
  "kernelspec": {
   "display_name": "Python 3",
   "language": "python",
   "name": "python3"
  },
  "language_info": {
   "codemirror_mode": {
    "name": "ipython",
    "version": 2
   },
   "file_extension": ".py",
   "mimetype": "text/x-python",
   "name": "python",
   "nbconvert_exporter": "python",
   "pygments_lexer": "ipython2",
   "version": "2.7.6"
  }
 },
 "nbformat": 4,
 "nbformat_minor": 0
}
