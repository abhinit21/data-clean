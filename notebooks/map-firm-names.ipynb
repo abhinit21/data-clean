{
 "cells": [
  {
   "cell_type": "code",
   "execution_count": 1,
   "metadata": {
    "collapsed": true
   },
   "outputs": [
    {
     "name": "stderr",
     "output_type": "stream",
     "text": [
      "c:\\users\\karthikeya\\appdata\\local\\programs\\python\\python37\\lib\\site-packages\\fuzzywuzzy\\fuzz.py:11: UserWarning: Using slow pure-python SequenceMatcher. Install python-Levenshtein to remove this warning\n",
      "  warnings.warn('Using slow pure-python SequenceMatcher. Install python-Levenshtein to remove this warning')\n"
     ]
    }
   ],
   "source": [
    "import re\n",
    "import pandas as pd\n",
    "\n",
    "from fuzzywuzzy import fuzz\n",
    "from fuzzywuzzy import process"
   ]
  },
  {
   "cell_type": "code",
   "execution_count": 2,
   "outputs": [],
   "source": [
    "form_adv_firm_names = pd.read_csv('../data/form_adv_formadvfirm.csv')\n",
    "formd_firm_names = pd.read_csv('../data/formd_firms_firm.csv')"
   ],
   "metadata": {
    "collapsed": false
   }
  },
  {
   "cell_type": "code",
   "execution_count": 3,
   "outputs": [
    {
     "data": {
      "text/plain": "      cik_no    crd_no                         name\n0  1583728.0  167139.0   Altalis Capital Management\n1  1578258.0  164338.0  Billings Capital Management\n2        NaN  160989.0           Cedar Cove Capital\n3  1301396.0  115167.0   Context Capital Management\n4  1546283.0  146382.0         Glovista Investments",
      "text/html": "<div>\n<style scoped>\n    .dataframe tbody tr th:only-of-type {\n        vertical-align: middle;\n    }\n\n    .dataframe tbody tr th {\n        vertical-align: top;\n    }\n\n    .dataframe thead th {\n        text-align: right;\n    }\n</style>\n<table border=\"1\" class=\"dataframe\">\n  <thead>\n    <tr style=\"text-align: right;\">\n      <th></th>\n      <th>cik_no</th>\n      <th>crd_no</th>\n      <th>name</th>\n    </tr>\n  </thead>\n  <tbody>\n    <tr>\n      <th>0</th>\n      <td>1583728.0</td>\n      <td>167139.0</td>\n      <td>Altalis Capital Management</td>\n    </tr>\n    <tr>\n      <th>1</th>\n      <td>1578258.0</td>\n      <td>164338.0</td>\n      <td>Billings Capital Management</td>\n    </tr>\n    <tr>\n      <th>2</th>\n      <td>NaN</td>\n      <td>160989.0</td>\n      <td>Cedar Cove Capital</td>\n    </tr>\n    <tr>\n      <th>3</th>\n      <td>1301396.0</td>\n      <td>115167.0</td>\n      <td>Context Capital Management</td>\n    </tr>\n    <tr>\n      <th>4</th>\n      <td>1546283.0</td>\n      <td>146382.0</td>\n      <td>Glovista Investments</td>\n    </tr>\n  </tbody>\n</table>\n</div>"
     },
     "execution_count": 3,
     "metadata": {},
     "output_type": "execute_result"
    }
   ],
   "source": [
    "formd_firm_names.head()"
   ],
   "metadata": {
    "collapsed": false
   }
  },
  {
   "cell_type": "code",
   "execution_count": 4,
   "outputs": [
    {
     "data": {
      "text/plain": "      id  crd_no                      name\n0  62091  324504     HAT TRICK CAPITAL LLC\n1  62092  324497      DAYS GLOBAL ADVISORS\n2  62062  319586      LGVP MANAGEMENT, LLC\n3   9749  116913  ANCHOR BAY CAPITAL, INC.\n4   7966  171653  MH ADVISORY SERVICES LLC",
      "text/html": "<div>\n<style scoped>\n    .dataframe tbody tr th:only-of-type {\n        vertical-align: middle;\n    }\n\n    .dataframe tbody tr th {\n        vertical-align: top;\n    }\n\n    .dataframe thead th {\n        text-align: right;\n    }\n</style>\n<table border=\"1\" class=\"dataframe\">\n  <thead>\n    <tr style=\"text-align: right;\">\n      <th></th>\n      <th>id</th>\n      <th>crd_no</th>\n      <th>name</th>\n    </tr>\n  </thead>\n  <tbody>\n    <tr>\n      <th>0</th>\n      <td>62091</td>\n      <td>324504</td>\n      <td>HAT TRICK CAPITAL LLC</td>\n    </tr>\n    <tr>\n      <th>1</th>\n      <td>62092</td>\n      <td>324497</td>\n      <td>DAYS GLOBAL ADVISORS</td>\n    </tr>\n    <tr>\n      <th>2</th>\n      <td>62062</td>\n      <td>319586</td>\n      <td>LGVP MANAGEMENT, LLC</td>\n    </tr>\n    <tr>\n      <th>3</th>\n      <td>9749</td>\n      <td>116913</td>\n      <td>ANCHOR BAY CAPITAL, INC.</td>\n    </tr>\n    <tr>\n      <th>4</th>\n      <td>7966</td>\n      <td>171653</td>\n      <td>MH ADVISORY SERVICES LLC</td>\n    </tr>\n  </tbody>\n</table>\n</div>"
     },
     "execution_count": 4,
     "metadata": {},
     "output_type": "execute_result"
    }
   ],
   "source": [
    "form_adv_firm_names.head()"
   ],
   "metadata": {
    "collapsed": false
   }
  },
  {
   "cell_type": "code",
   "execution_count": 5,
   "outputs": [],
   "source": [
    "formd_firm_names.rename(columns={'name' : 'formd_firms'}, inplace=True)\n",
    "form_adv_firm_names.rename(columns={'name' : 'formadv_firms'}, inplace=True)"
   ],
   "metadata": {
    "collapsed": false
   }
  },
  {
   "cell_type": "code",
   "execution_count": 6,
   "outputs": [],
   "source": [
    "formd_firm_names.drop_duplicates(subset=['formd_firms'], inplace=True)"
   ],
   "metadata": {
    "collapsed": false
   }
  },
  {
   "cell_type": "code",
   "execution_count": 7,
   "outputs": [],
   "source": [
    "formd_firm_names = formd_firm_names.iloc[:100]"
   ],
   "metadata": {
    "collapsed": false
   }
  },
  {
   "cell_type": "code",
   "execution_count": 8,
   "outputs": [],
   "source": [
    "def prefix_num(val):\n",
    "    idx = 0\n",
    "    while idx < len(val) - 1 and not val[idx].isalpha():\n",
    "        idx += 1\n",
    "\n",
    "    special_char = {'LLC', 'INC', 'LLP'}\n",
    "    newVal = []\n",
    "    for name in val[idx:].split():\n",
    "        if name in special_char:\n",
    "            continue\n",
    "        alterName = re.sub('%d', '', name)\n",
    "        newVal.append(alterName)\n",
    "\n",
    "    return ' '.join(newVal)"
   ],
   "metadata": {
    "collapsed": false
   }
  },
  {
   "cell_type": "code",
   "execution_count": 9,
   "outputs": [],
   "source": [
    "form_adv_firm_names['formadv_firms'] = form_adv_firm_names['formadv_firms'].str.replace(',', '')\n",
    "form_adv_firm_names['formadv_firms'] = form_adv_firm_names['formadv_firms'].str.replace('(', '')\n",
    "form_adv_firm_names['formadv_firms'] = form_adv_firm_names['formadv_firms'].str.replace(')', '')\n",
    "form_adv_firm_names['formadv_firms'] = form_adv_firm_names['formadv_firms'].str.replace('\"', '')\n",
    "form_adv_firm_names['formadv_firms'] = form_adv_firm_names['formadv_firms'].str.replace('-', '')\n",
    "form_adv_firm_names['formadv_firms'] = form_adv_firm_names['formadv_firms'].str.replace('&', '')\n",
    "form_adv_firm_names['formadv_firms'] = form_adv_firm_names['formadv_firms'].str.replace('/', '')\n",
    "form_adv_firm_names['formadv_firms'] = form_adv_firm_names['formadv_firms'].apply(prefix_num)\n",
    "form_adv_firm_names['formadv_firms'] = form_adv_firm_names['formadv_firms'].str.title()"
   ],
   "metadata": {
    "collapsed": false
   }
  },
  {
   "cell_type": "code",
   "execution_count": 10,
   "outputs": [
    {
     "data": {
      "text/plain": "          id  crd_no                              formadv_firms\n0      62091  324504                      Hat Trick Capital Llc\n1      62092  324497                       Days Global Advisors\n2      62062  319586                        Lgvp Management Llc\n3       9749  116913                    Anchor Bay Capital Inc.\n4       7966  171653                   Mh Advisory Services Llc\n...      ...     ...                                        ...\n61906  11284  105519             Barrow Hanley Global Investors\n61907  32815  114409                   Dick Rivera & Associates\n61908  52343  306395  Duro Capital Singapore Advisors Pte. Ltd.\n61909  57937  316778                 Dkm Wealth Management Inc.\n61910  59137  319251                Fresh Bread Investments Llc\n\n[61911 rows x 3 columns]",
      "text/html": "<div>\n<style scoped>\n    .dataframe tbody tr th:only-of-type {\n        vertical-align: middle;\n    }\n\n    .dataframe tbody tr th {\n        vertical-align: top;\n    }\n\n    .dataframe thead th {\n        text-align: right;\n    }\n</style>\n<table border=\"1\" class=\"dataframe\">\n  <thead>\n    <tr style=\"text-align: right;\">\n      <th></th>\n      <th>id</th>\n      <th>crd_no</th>\n      <th>formadv_firms</th>\n    </tr>\n  </thead>\n  <tbody>\n    <tr>\n      <th>0</th>\n      <td>62091</td>\n      <td>324504</td>\n      <td>Hat Trick Capital Llc</td>\n    </tr>\n    <tr>\n      <th>1</th>\n      <td>62092</td>\n      <td>324497</td>\n      <td>Days Global Advisors</td>\n    </tr>\n    <tr>\n      <th>2</th>\n      <td>62062</td>\n      <td>319586</td>\n      <td>Lgvp Management Llc</td>\n    </tr>\n    <tr>\n      <th>3</th>\n      <td>9749</td>\n      <td>116913</td>\n      <td>Anchor Bay Capital Inc.</td>\n    </tr>\n    <tr>\n      <th>4</th>\n      <td>7966</td>\n      <td>171653</td>\n      <td>Mh Advisory Services Llc</td>\n    </tr>\n    <tr>\n      <th>...</th>\n      <td>...</td>\n      <td>...</td>\n      <td>...</td>\n    </tr>\n    <tr>\n      <th>61906</th>\n      <td>11284</td>\n      <td>105519</td>\n      <td>Barrow Hanley Global Investors</td>\n    </tr>\n    <tr>\n      <th>61907</th>\n      <td>32815</td>\n      <td>114409</td>\n      <td>Dick Rivera &amp; Associates</td>\n    </tr>\n    <tr>\n      <th>61908</th>\n      <td>52343</td>\n      <td>306395</td>\n      <td>Duro Capital Singapore Advisors Pte. Ltd.</td>\n    </tr>\n    <tr>\n      <th>61909</th>\n      <td>57937</td>\n      <td>316778</td>\n      <td>Dkm Wealth Management Inc.</td>\n    </tr>\n    <tr>\n      <th>61910</th>\n      <td>59137</td>\n      <td>319251</td>\n      <td>Fresh Bread Investments Llc</td>\n    </tr>\n  </tbody>\n</table>\n<p>61911 rows × 3 columns</p>\n</div>"
     },
     "execution_count": 10,
     "metadata": {},
     "output_type": "execute_result"
    }
   ],
   "source": [
    "form_adv_firm_names"
   ],
   "metadata": {
    "collapsed": false
   }
  },
  {
   "cell_type": "code",
   "execution_count": 11,
   "outputs": [],
   "source": [
    "formd_firm_names['formd_firms'] = formd_firm_names['formd_firms'].str.replace(',', '')\n",
    "formd_firm_names['formd_firms'] = formd_firm_names['formd_firms'].str.replace('(', '')\n",
    "formd_firm_names['formd_firms'] = formd_firm_names['formd_firms'].str.replace(')', '')"
   ],
   "metadata": {
    "collapsed": false
   }
  },
  {
   "cell_type": "code",
   "execution_count": 12,
   "outputs": [],
   "source": [
    "name2match = formd_firm_names['formd_firms'].to_list()\n",
    "namechoice = form_adv_firm_names['formadv_firms'].to_list()[:1000]"
   ],
   "metadata": {
    "collapsed": false
   }
  },
  {
   "cell_type": "code",
   "execution_count": 13,
   "outputs": [],
   "source": [
    "def checker(wrong_options, correct_options):\n",
    "    names_array=[]\n",
    "    ratio_array=[]\n",
    "    for wrong_option in wrong_options:\n",
    "        if wrong_option in correct_options:\n",
    "            names_array.append(wrong_option)\n",
    "            ratio_array.append('100')\n",
    "        else:\n",
    "            x = process.extractBests(wrong_option, correct_options, scorer=fuzz.token_set_ratio)\n",
    "            names_array.append(x[0])\n",
    "            ratio_array.append(x[1])\n",
    "\n",
    "    return names_array, ratio_array"
   ],
   "metadata": {
    "collapsed": false
   }
  },
  {
   "cell_type": "code",
   "execution_count": 14,
   "outputs": [],
   "source": [
    "name_match, ratio_match = checker(name2match, namechoice)\n",
    "\n",
    "result_df = pd.DataFrame()\n",
    "\n",
    "result_df['formd_firms'] = pd.Series(name2match)\n",
    "result_df['formadv_firms'] = pd.Series(name_match)\n",
    "result_df['ratio'] = pd.Series(ratio_match)"
   ],
   "metadata": {
    "collapsed": false
   }
  },
  {
   "cell_type": "code",
   "execution_count": 15,
   "outputs": [
    {
     "data": {
      "text/plain": "                   formd_firms           formadv_firms  ratio\n0   Altalis Capital Management  Lcv Capital Management     90\n1  Billings Capital Management  Lcv Capital Management     90\n2           Cedar Cove Capital              Dt Capital     82\n3   Context Capital Management  Lcv Capital Management     90\n4         Glovista Investments        Dean Investments     81",
      "text/html": "<div>\n<style scoped>\n    .dataframe tbody tr th:only-of-type {\n        vertical-align: middle;\n    }\n\n    .dataframe tbody tr th {\n        vertical-align: top;\n    }\n\n    .dataframe thead th {\n        text-align: right;\n    }\n</style>\n<table border=\"1\" class=\"dataframe\">\n  <thead>\n    <tr style=\"text-align: right;\">\n      <th></th>\n      <th>formd_firms</th>\n      <th>formadv_firms</th>\n      <th>ratio</th>\n    </tr>\n  </thead>\n  <tbody>\n    <tr>\n      <th>0</th>\n      <td>Altalis Capital Management</td>\n      <td>Lcv Capital Management</td>\n      <td>90</td>\n    </tr>\n    <tr>\n      <th>1</th>\n      <td>Billings Capital Management</td>\n      <td>Lcv Capital Management</td>\n      <td>90</td>\n    </tr>\n    <tr>\n      <th>2</th>\n      <td>Cedar Cove Capital</td>\n      <td>Dt Capital</td>\n      <td>82</td>\n    </tr>\n    <tr>\n      <th>3</th>\n      <td>Context Capital Management</td>\n      <td>Lcv Capital Management</td>\n      <td>90</td>\n    </tr>\n    <tr>\n      <th>4</th>\n      <td>Glovista Investments</td>\n      <td>Dean Investments</td>\n      <td>81</td>\n    </tr>\n  </tbody>\n</table>\n</div>"
     },
     "execution_count": 15,
     "metadata": {},
     "output_type": "execute_result"
    }
   ],
   "source": [
    "result_df.head()"
   ],
   "metadata": {
    "collapsed": false
   }
  },
  {
   "cell_type": "code",
   "execution_count": 16,
   "outputs": [],
   "source": [
    "result_df.to_csv('../output/firm_names_fuzzy_scores.csv')"
   ],
   "metadata": {
    "collapsed": false
   }
  }
 ],
 "metadata": {
  "kernelspec": {
   "display_name": "Python 3",
   "language": "python",
   "name": "python3"
  },
  "language_info": {
   "codemirror_mode": {
    "name": "ipython",
    "version": 2
   },
   "file_extension": ".py",
   "mimetype": "text/x-python",
   "name": "python",
   "nbconvert_exporter": "python",
   "pygments_lexer": "ipython2",
   "version": "2.7.6"
  }
 },
 "nbformat": 4,
 "nbformat_minor": 0
}
