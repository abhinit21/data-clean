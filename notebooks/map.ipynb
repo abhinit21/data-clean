{
 "cells": [
  {
   "cell_type": "code",
   "execution_count": 2,
   "metadata": {
    "collapsed": true
   },
   "outputs": [],
   "source": [
    "import pandas as pd"
   ]
  },
  {
   "cell_type": "code",
   "execution_count": 3,
   "outputs": [],
   "source": [
    "related_partners = pd.read_pickle('../storage/related_partners.pkl')\n",
    "direct_owners = pd.read_pickle('../storage/direct_owners.pkl')"
   ],
   "metadata": {
    "collapsed": false
   }
  },
  {
   "cell_type": "code",
   "execution_count": null,
   "outputs": [],
   "source": [
    "def fuzzy_score(a, b):\n",
    "    # TODO : ...\n",
    "\n",
    "    return 0"
   ],
   "metadata": {
    "collapsed": false
   }
  },
  {
   "cell_type": "code",
   "execution_count": 1,
   "outputs": [
    {
     "ename": "SyntaxError",
     "evalue": "unexpected EOF while parsing (Temp/ipykernel_23604/4191161149.py, line 1)",
     "output_type": "error",
     "traceback": [
      "\u001B[1;36m  File \u001B[1;32m\"C:\\Users\\KARTHI~1\\AppData\\Local\\Temp/ipykernel_23604/4191161149.py\"\u001B[1;36m, line \u001B[1;32m1\u001B[0m\n\u001B[1;33m    for person in related_partners:\u001B[0m\n\u001B[1;37m                                   ^\u001B[0m\n\u001B[1;31mSyntaxError\u001B[0m\u001B[1;31m:\u001B[0m unexpected EOF while parsing\n"
     ]
    }
   ],
   "source": [
    "scores_df = []\n",
    "\n",
    "for person in related_partners:\n",
    "    for owner in direct_owners:\n",
    "        score = fuzzy_score(person, owner)\n",
    "        scores_df.append((person, owner, score))"
   ],
   "metadata": {
    "collapsed": false
   }
  },
  {
   "cell_type": "code",
   "execution_count": null,
   "outputs": [],
   "source": [
    "result_df = pd.DataFrame(scores_df, columns=['related_partners', 'direct_owners', 'fuzzy_score'])"
   ],
   "metadata": {
    "collapsed": false
   }
  }
 ],
 "metadata": {
  "kernelspec": {
   "display_name": "Python 3",
   "language": "python",
   "name": "python3"
  },
  "language_info": {
   "codemirror_mode": {
    "name": "ipython",
    "version": 2
   },
   "file_extension": ".py",
   "mimetype": "text/x-python",
   "name": "python",
   "nbconvert_exporter": "python",
   "pygments_lexer": "ipython2",
   "version": "2.7.6"
  }
 },
 "nbformat": 4,
 "nbformat_minor": 0
}
