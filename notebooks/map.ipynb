{
 "cells": [
  {
   "cell_type": "code",
   "execution_count": 43,
   "metadata": {
    "collapsed": true
   },
   "outputs": [],
   "source": [
    "import pandas as pd\n",
    "from fuzzywuzzy import fuzz\n",
    "from fuzzywuzzy import process"
   ]
  },
  {
   "cell_type": "code",
   "execution_count": 44,
   "outputs": [],
   "source": [
    "related_partners = pd.read_pickle('../storage/related_partners.pkl')\n",
    "direct_owners = pd.read_pickle('../storage/direct_owners.pkl')"
   ],
   "metadata": {
    "collapsed": false
   }
  },
  {
   "cell_type": "code",
   "execution_count": 45,
   "outputs": [
    {
     "data": {
      "text/plain": "0        Tomoyuki Izumi\n1        Tomoyuki Izumi\n2        Tomoyuki Izumi\n3    Alejandro Loureiro\n4       Balaji Vinjamur\nName: related_partners, dtype: object"
     },
     "execution_count": 45,
     "metadata": {},
     "output_type": "execute_result"
    }
   ],
   "source": [
    "related_partners.head()"
   ],
   "metadata": {
    "collapsed": false
   }
  },
  {
   "cell_type": "code",
   "execution_count": 49,
   "outputs": [],
   "source": [
    "name2match = related_partners.to_list()\n",
    "namechoice = direct_owners.legal_name.to_list()"
   ],
   "metadata": {
    "collapsed": false
   }
  },
  {
   "cell_type": "code",
   "execution_count": 50,
   "outputs": [],
   "source": [
    "def checker(wrong_options, correct_options):\n",
    "    names_array=[]\n",
    "    ratio_array=[]\n",
    "    for wrong_option in wrong_options:\n",
    "        if wrong_option in correct_options:\n",
    "            names_array.append(wrong_option)\n",
    "            ratio_array.append('100')\n",
    "        else:\n",
    "            x = process.extractOne(wrong_option, correct_options, scorer=fuzz.token_set_ratio)\n",
    "            names_array.append(x[0])\n",
    "            ratio_array.append(x[1])\n",
    "\n",
    "    return names_array, ratio_array"
   ],
   "metadata": {
    "collapsed": false
   }
  },
  {
   "cell_type": "code",
   "execution_count": 51,
   "outputs": [],
   "source": [
    "name_match, ratio_match = checker(name2match, namechoice)\n",
    "\n",
    "result_df = pd.DataFrame()\n",
    "\n",
    "result_df['related_partners'] = pd.Series(name2match)\n",
    "result_df['direct_owners'] = pd.Series(name_match)\n",
    "result_df['ratio'] = pd.Series(ratio_match)"
   ],
   "metadata": {
    "collapsed": false
   }
  },
  {
   "cell_type": "code",
   "execution_count": 52,
   "outputs": [
    {
     "data": {
      "text/plain": "     related_partners            direct_owners  ratio\n0      Tomoyuki Izumi          Song Soyoun Kim     48\n1      Tomoyuki Izumi          Song Soyoun Kim     48\n2      Tomoyuki Izumi          Song Soyoun Kim     48\n3  Alejandro Loureiro  Fegler Gerald Alexander     59\n4     Balaji Vinjamur       Bailey James David     55",
      "text/html": "<div>\n<style scoped>\n    .dataframe tbody tr th:only-of-type {\n        vertical-align: middle;\n    }\n\n    .dataframe tbody tr th {\n        vertical-align: top;\n    }\n\n    .dataframe thead th {\n        text-align: right;\n    }\n</style>\n<table border=\"1\" class=\"dataframe\">\n  <thead>\n    <tr style=\"text-align: right;\">\n      <th></th>\n      <th>related_partners</th>\n      <th>direct_owners</th>\n      <th>ratio</th>\n    </tr>\n  </thead>\n  <tbody>\n    <tr>\n      <th>0</th>\n      <td>Tomoyuki Izumi</td>\n      <td>Song Soyoun Kim</td>\n      <td>48</td>\n    </tr>\n    <tr>\n      <th>1</th>\n      <td>Tomoyuki Izumi</td>\n      <td>Song Soyoun Kim</td>\n      <td>48</td>\n    </tr>\n    <tr>\n      <th>2</th>\n      <td>Tomoyuki Izumi</td>\n      <td>Song Soyoun Kim</td>\n      <td>48</td>\n    </tr>\n    <tr>\n      <th>3</th>\n      <td>Alejandro Loureiro</td>\n      <td>Fegler Gerald Alexander</td>\n      <td>59</td>\n    </tr>\n    <tr>\n      <th>4</th>\n      <td>Balaji Vinjamur</td>\n      <td>Bailey James David</td>\n      <td>55</td>\n    </tr>\n  </tbody>\n</table>\n</div>"
     },
     "execution_count": 52,
     "metadata": {},
     "output_type": "execute_result"
    }
   ],
   "source": [
    "result_df.head()"
   ],
   "metadata": {
    "collapsed": false
   }
  },
  {
   "cell_type": "code",
   "execution_count": 53,
   "outputs": [],
   "source": [
    "result_df.to_csv('fuzzy_scores.csv')"
   ],
   "metadata": {
    "collapsed": false
   }
  }
 ],
 "metadata": {
  "kernelspec": {
   "display_name": "Python 3",
   "language": "python",
   "name": "python3"
  },
  "language_info": {
   "codemirror_mode": {
    "name": "ipython",
    "version": 2
   },
   "file_extension": ".py",
   "mimetype": "text/x-python",
   "name": "python",
   "nbconvert_exporter": "python",
   "pygments_lexer": "ipython2",
   "version": "2.7.6"
  }
 },
 "nbformat": 4,
 "nbformat_minor": 0
}
