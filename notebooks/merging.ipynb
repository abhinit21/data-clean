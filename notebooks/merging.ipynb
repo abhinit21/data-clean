{
 "cells": [
  {
   "cell_type": "code",
   "execution_count": 1,
   "metadata": {
    "collapsed": true
   },
   "outputs": [],
   "source": [
    "import pandas as pd"
   ]
  },
  {
   "cell_type": "code",
   "execution_count": 2,
   "outputs": [],
   "source": [
    "matches_firms = pd.read_csv('../data/matches_firms.csv')\n",
    "matches_funds = pd.read_csv('../data/matches_funds.csv')\n",
    "matches_owners = pd.read_csv('../data/matches_owners.csv')"
   ],
   "metadata": {
    "collapsed": false
   }
  },
  {
   "cell_type": "code",
   "execution_count": 3,
   "outputs": [],
   "source": [
    "matches_firms_funds = pd.merge(matches_firms, matches_funds, how='inner')"
   ],
   "metadata": {
    "collapsed": false
   }
  },
  {
   "cell_type": "code",
   "execution_count": 4,
   "outputs": [],
   "source": [
    "# Formatting Data Frame\n",
    "filter_columns = [\n",
    "    'form_d_fund_id', 'cik_no_fund', 'fund',\n",
    "    'form_adv_firm_id', 'crd_no_firm', 'matched_firm', 'firm_confidence',\n",
    "    'form_adv_fund_id', 'crd_no_fund', 'matched_fund', 'fund_confidence',\n",
    "]\n",
    "matches_firms_funds = matches_firms_funds[filter_columns]"
   ],
   "metadata": {
    "collapsed": false
   }
  },
  {
   "cell_type": "code",
   "execution_count": 5,
   "outputs": [
    {
     "data": {
      "text/plain": "   form_d_fund_id  cik_no_fund                                    fund  \\\n0           54568      1694312     Ajo Emerging Markets Small Cap Fund   \n1           60070      1685357             Libra Fossil Fuel Free Fund   \n2           38363      1679614  Fiam Global Low Volatility Equity Fund   \n3           43377      1753457                   Parian Global Us Fund   \n4           24565      1450552                 Davi Luxury Brand Group   \n\n   form_adv_firm_id  crd_no_firm                           matched_firm  \\\n0               NaN       309921  Capitalworks Emerging Markets Advisor   \n1               NaN       281914                                   Fund   \n2               NaN       137649                 Global Equity Advisors   \n3           20874.0       297279               Parian Global Management   \n4          142265.0       306533                         Daventry Group   \n\n   firm_confidence  form_adv_fund_id  crd_no_fund  \\\n0         0.985133             602.0       105545   \n1         0.927080           11352.0       294197   \n2         0.891444           10035.0       133196   \n3         0.819455           20874.0       297279   \n4         0.983191            3170.0       110885   \n\n                             matched_fund  fund_confidence  \n0     Ajo Emerging Markets Small Cap Fund         0.000000  \n1             Libra Fossil Fuel Free Fund         0.000000  \n2  Fiam Global Low Volatility Equity Fund         0.000000  \n3                Parian Global Us Fund Ii         0.263488  \n4        Capital Group Euro Bond Fund Lux         0.974050  ",
      "text/html": "<div>\n<style scoped>\n    .dataframe tbody tr th:only-of-type {\n        vertical-align: middle;\n    }\n\n    .dataframe tbody tr th {\n        vertical-align: top;\n    }\n\n    .dataframe thead th {\n        text-align: right;\n    }\n</style>\n<table border=\"1\" class=\"dataframe\">\n  <thead>\n    <tr style=\"text-align: right;\">\n      <th></th>\n      <th>form_d_fund_id</th>\n      <th>cik_no_fund</th>\n      <th>fund</th>\n      <th>form_adv_firm_id</th>\n      <th>crd_no_firm</th>\n      <th>matched_firm</th>\n      <th>firm_confidence</th>\n      <th>form_adv_fund_id</th>\n      <th>crd_no_fund</th>\n      <th>matched_fund</th>\n      <th>fund_confidence</th>\n    </tr>\n  </thead>\n  <tbody>\n    <tr>\n      <th>0</th>\n      <td>54568</td>\n      <td>1694312</td>\n      <td>Ajo Emerging Markets Small Cap Fund</td>\n      <td>NaN</td>\n      <td>309921</td>\n      <td>Capitalworks Emerging Markets Advisor</td>\n      <td>0.985133</td>\n      <td>602.0</td>\n      <td>105545</td>\n      <td>Ajo Emerging Markets Small Cap Fund</td>\n      <td>0.000000</td>\n    </tr>\n    <tr>\n      <th>1</th>\n      <td>60070</td>\n      <td>1685357</td>\n      <td>Libra Fossil Fuel Free Fund</td>\n      <td>NaN</td>\n      <td>281914</td>\n      <td>Fund</td>\n      <td>0.927080</td>\n      <td>11352.0</td>\n      <td>294197</td>\n      <td>Libra Fossil Fuel Free Fund</td>\n      <td>0.000000</td>\n    </tr>\n    <tr>\n      <th>2</th>\n      <td>38363</td>\n      <td>1679614</td>\n      <td>Fiam Global Low Volatility Equity Fund</td>\n      <td>NaN</td>\n      <td>137649</td>\n      <td>Global Equity Advisors</td>\n      <td>0.891444</td>\n      <td>10035.0</td>\n      <td>133196</td>\n      <td>Fiam Global Low Volatility Equity Fund</td>\n      <td>0.000000</td>\n    </tr>\n    <tr>\n      <th>3</th>\n      <td>43377</td>\n      <td>1753457</td>\n      <td>Parian Global Us Fund</td>\n      <td>20874.0</td>\n      <td>297279</td>\n      <td>Parian Global Management</td>\n      <td>0.819455</td>\n      <td>20874.0</td>\n      <td>297279</td>\n      <td>Parian Global Us Fund Ii</td>\n      <td>0.263488</td>\n    </tr>\n    <tr>\n      <th>4</th>\n      <td>24565</td>\n      <td>1450552</td>\n      <td>Davi Luxury Brand Group</td>\n      <td>142265.0</td>\n      <td>306533</td>\n      <td>Daventry Group</td>\n      <td>0.983191</td>\n      <td>3170.0</td>\n      <td>110885</td>\n      <td>Capital Group Euro Bond Fund Lux</td>\n      <td>0.974050</td>\n    </tr>\n  </tbody>\n</table>\n</div>"
     },
     "execution_count": 5,
     "metadata": {},
     "output_type": "execute_result"
    }
   ],
   "source": [
    "matches_firms_funds.head()"
   ],
   "metadata": {
    "collapsed": false
   }
  },
  {
   "cell_type": "code",
   "execution_count": 13,
   "outputs": [
    {
     "data": {
      "text/plain": "                             partners          matched_owners  \\\n0                       Richard Smith           Smith Richard   \n1                       Daniel Clarke            Clark Daniel   \n2                           Ian Wylie               Wylie Ian   \n3                    Carolyn Flanagan  Flanagan Carolyn Marie   \n4                      Robert Roskoph            Susko Robert   \n...                               ...                     ...   \n3352                    Garth Merrick                     NaN   \n3353                   Wesley Lindsey     Alley James Lindsey   \n3354                     Mark Huntley            Huntley Mark   \n3355                     Alan Lindsay            Gold Lindsay   \n3356  N A Asa Tax Advantaged Advisors        Cpa Tax Advisors   \n\n      owners_confidence  cik_no_partners  form_d_partners_id  crd_no_owners  \\\n0              0.519561          1308569                 479         302036   \n1              0.644697          1453420                 424         114445   \n2              0.499476          1553872                1186         166159   \n3              0.509241          1465214                 659         106435   \n4              0.784406          1560053                1196         140287   \n...                 ...              ...                 ...            ...   \n3352           1.000000            20199                 438         316652   \n3353           0.739983          1512138                 362         112214   \n3354           0.495797          1303308                1261         163301   \n3355           0.775102          1334933                 403         110296   \n3356           0.863775          1257006                1240         323563   \n\n      form_adv_owners_id  \n0                  50799  \n1                  12393  \n2                  13477  \n3                   7188  \n4                  35172  \n...                  ...  \n3352               57985  \n3353               15865  \n3354                3941  \n3355                4286  \n3356               61841  \n\n[3357 rows x 7 columns]",
      "text/html": "<div>\n<style scoped>\n    .dataframe tbody tr th:only-of-type {\n        vertical-align: middle;\n    }\n\n    .dataframe tbody tr th {\n        vertical-align: top;\n    }\n\n    .dataframe thead th {\n        text-align: right;\n    }\n</style>\n<table border=\"1\" class=\"dataframe\">\n  <thead>\n    <tr style=\"text-align: right;\">\n      <th></th>\n      <th>partners</th>\n      <th>matched_owners</th>\n      <th>owners_confidence</th>\n      <th>cik_no_partners</th>\n      <th>form_d_partners_id</th>\n      <th>crd_no_owners</th>\n      <th>form_adv_owners_id</th>\n    </tr>\n  </thead>\n  <tbody>\n    <tr>\n      <th>0</th>\n      <td>Richard Smith</td>\n      <td>Smith Richard</td>\n      <td>0.519561</td>\n      <td>1308569</td>\n      <td>479</td>\n      <td>302036</td>\n      <td>50799</td>\n    </tr>\n    <tr>\n      <th>1</th>\n      <td>Daniel Clarke</td>\n      <td>Clark Daniel</td>\n      <td>0.644697</td>\n      <td>1453420</td>\n      <td>424</td>\n      <td>114445</td>\n      <td>12393</td>\n    </tr>\n    <tr>\n      <th>2</th>\n      <td>Ian Wylie</td>\n      <td>Wylie Ian</td>\n      <td>0.499476</td>\n      <td>1553872</td>\n      <td>1186</td>\n      <td>166159</td>\n      <td>13477</td>\n    </tr>\n    <tr>\n      <th>3</th>\n      <td>Carolyn Flanagan</td>\n      <td>Flanagan Carolyn Marie</td>\n      <td>0.509241</td>\n      <td>1465214</td>\n      <td>659</td>\n      <td>106435</td>\n      <td>7188</td>\n    </tr>\n    <tr>\n      <th>4</th>\n      <td>Robert Roskoph</td>\n      <td>Susko Robert</td>\n      <td>0.784406</td>\n      <td>1560053</td>\n      <td>1196</td>\n      <td>140287</td>\n      <td>35172</td>\n    </tr>\n    <tr>\n      <th>...</th>\n      <td>...</td>\n      <td>...</td>\n      <td>...</td>\n      <td>...</td>\n      <td>...</td>\n      <td>...</td>\n      <td>...</td>\n    </tr>\n    <tr>\n      <th>3352</th>\n      <td>Garth Merrick</td>\n      <td>NaN</td>\n      <td>1.000000</td>\n      <td>20199</td>\n      <td>438</td>\n      <td>316652</td>\n      <td>57985</td>\n    </tr>\n    <tr>\n      <th>3353</th>\n      <td>Wesley Lindsey</td>\n      <td>Alley James Lindsey</td>\n      <td>0.739983</td>\n      <td>1512138</td>\n      <td>362</td>\n      <td>112214</td>\n      <td>15865</td>\n    </tr>\n    <tr>\n      <th>3354</th>\n      <td>Mark Huntley</td>\n      <td>Huntley Mark</td>\n      <td>0.495797</td>\n      <td>1303308</td>\n      <td>1261</td>\n      <td>163301</td>\n      <td>3941</td>\n    </tr>\n    <tr>\n      <th>3355</th>\n      <td>Alan Lindsay</td>\n      <td>Gold Lindsay</td>\n      <td>0.775102</td>\n      <td>1334933</td>\n      <td>403</td>\n      <td>110296</td>\n      <td>4286</td>\n    </tr>\n    <tr>\n      <th>3356</th>\n      <td>N A Asa Tax Advantaged Advisors</td>\n      <td>Cpa Tax Advisors</td>\n      <td>0.863775</td>\n      <td>1257006</td>\n      <td>1240</td>\n      <td>323563</td>\n      <td>61841</td>\n    </tr>\n  </tbody>\n</table>\n<p>3357 rows × 7 columns</p>\n</div>"
     },
     "execution_count": 13,
     "metadata": {},
     "output_type": "execute_result"
    }
   ],
   "source": [
    "matches_owners.head()"
   ],
   "metadata": {
    "collapsed": false
   }
  }
 ],
 "metadata": {
  "kernelspec": {
   "display_name": "Python 3",
   "language": "python",
   "name": "python3"
  },
  "language_info": {
   "codemirror_mode": {
    "name": "ipython",
    "version": 2
   },
   "file_extension": ".py",
   "mimetype": "text/x-python",
   "name": "python",
   "nbconvert_exporter": "python",
   "pygments_lexer": "ipython2",
   "version": "2.7.6"
  }
 },
 "nbformat": 4,
 "nbformat_minor": 0
}
