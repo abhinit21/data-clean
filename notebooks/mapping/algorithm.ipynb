{
 "cells": [
  {
   "cell_type": "code",
   "execution_count": 45,
   "metadata": {
    "collapsed": true
   },
   "outputs": [],
   "source": [
    "import pandas as pd\n",
    "\n",
    "from sklearn.feature_extraction.text import TfidfVectorizer\n",
    "from sklearn.neighbors import NearestNeighbors\n",
    "from ftfy import fix_text"
   ]
  },
  {
   "cell_type": "code",
   "execution_count": 46,
   "outputs": [],
   "source": [
    "formd_funds = pd.read_pickle('../../storage/formd_funds.pkl')\n",
    "formadv_firms = pd.read_pickle('../../storage/formadv_firms.pkl')"
   ],
   "metadata": {
    "collapsed": false
   }
  },
  {
   "cell_type": "code",
   "execution_count": 48,
   "outputs": [],
   "source": [
    "def ngrams(string, n=2):\n",
    "    string = str(string)\n",
    "    string = fix_text(string) # fix text\n",
    "    n_grams = zip(*[string[i:] for i in range(n)])\n",
    "    return [''.join(ngram) for ngram in n_grams]"
   ],
   "metadata": {
    "collapsed": false
   }
  },
  {
   "cell_type": "code",
   "execution_count": 49,
   "outputs": [],
   "source": [
    "# firm_cik_dict = pd.Series(table_a.cik_no.values, index=table_a.firm_name).to_dict()\n",
    "# name_crd_dict = pd.Series(table_b.crd_no.values, index=table_b.direct_owners).to_dict()"
   ],
   "metadata": {
    "collapsed": false
   }
  },
  {
   "cell_type": "code",
   "execution_count": 50,
   "outputs": [],
   "source": [
    "formd_funds = formd_funds.iloc[:10]"
   ],
   "metadata": {
    "collapsed": false
   }
  },
  {
   "cell_type": "code",
   "execution_count": 0,
   "outputs": [],
   "source": [
    "right_values = formadv_firms.form_adv_firms.unique()\n",
    "\n",
    "vectorizer = TfidfVectorizer(min_df=1, analyzer=ngrams, lowercase=False)\n",
    "tfidf = vectorizer.fit_transform(right_values)\n",
    "nbrs = NearestNeighbors(n_neighbors=10, n_jobs=-1).fit(tfidf)\n",
    "\n",
    "# column to match against in the data\n",
    "left_values = set(formd_funds.form_d_funds) # set used for increased performance\n",
    "\n",
    "# matching query\n",
    "def getNearestN(query):\n",
    "  queryTFIDF_ = vectorizer.transform(query)\n",
    "  distances, indices = nbrs.kneighbors(queryTFIDF_)\n",
    "  return distances, indices\n",
    "\n",
    "distances, indices = getNearestN(left_values)\n",
    "\n",
    "left_values = list(left_values) # need to convert back to a list\n",
    "\n",
    "matches_names = []\n",
    "for i, j in enumerate(indices):\n",
    "    for k in range(10):\n",
    "        temp = [left_values[i], right_values[j][k], distances[i][k]]\n",
    "        matches_names.append(temp)\n",
    "\n",
    "matches_names = pd.DataFrame(matches_names, columns=['Fund Name', 'Matched Firm name', 'Match confidence'])"
   ],
   "metadata": {
    "collapsed": false
   }
  },
  {
   "cell_type": "code",
   "execution_count": 51,
   "outputs": [
    {
     "data": {
      "text/plain": "                          Fund Name                  Matched Firm name  \\\n0      Katonah Capital Partners LLC                   H.P. Becker & Co   \n1      Katonah Capital Partners LLC            TALL PINES CAPITAL, LLC   \n2      Katonah Capital Partners LLC             RED CELL PARTNERS, LLC   \n3      Katonah Capital Partners LLC             MILL POINT CAPITAL LLC   \n4      Katonah Capital Partners LLC          HALL CAPITAL PARTNERS LLC   \n5      Katonah Capital Partners LLC        TEALL CAPITAL PARTNERS, LLC   \n6      Katonah Capital Partners LLC         WELCH CAPITAL PARTNERS LLC   \n7      Katonah Capital Partners LLC    FORT POINT CAPITAL PARTNERS LLC   \n8      Katonah Capital Partners LLC       GALLANT CAPITAL PARTNERS LLC   \n9      Katonah Capital Partners LLC    BLUE POINT CAPITAL PARTNERS LLC   \n10    TAKUMI CAPITAL MANAGEMENT, LP                 TAKUMI CAPITAL LLC   \n11    TAKUMI CAPITAL MANAGEMENT, LP       TOKUM CAPITAL MANAGEMENT, LP   \n12    TAKUMI CAPITAL MANAGEMENT, LP     AUMAKUA CAPITAL MANAGEMENT LLC   \n13    TAKUMI CAPITAL MANAGEMENT, LP            KULI CAPITAL MANAGEMENT   \n14    TAKUMI CAPITAL MANAGEMENT, LP   LUMINARI CAPITAL MANAGEMENT, LLC   \n15    TAKUMI CAPITAL MANAGEMENT, LP                   KUMA CAPITAL LLC   \n16    TAKUMI CAPITAL MANAGEMENT, LP         PI CAPITAL MANAGEMENT, LLC   \n17    TAKUMI CAPITAL MANAGEMENT, LP     MIKUS CAPITAL MANAGEMENT, INC.   \n18    TAKUMI CAPITAL MANAGEMENT, LP      MEDERI CAPITAL MANAGEMENT, LP   \n19    TAKUMI CAPITAL MANAGEMENT, LP      KUBER CAPITAL MANAGEMENT, LLC   \n20  Winslow Capital Management, LLC        ALC CAPITAL MANAGEMENT, LLC   \n21  Winslow Capital Management, LLC                   R L CAPITAL, LLC   \n22  Winslow Capital Management, LLC                     L CAPITAL, LLC   \n23  Winslow Capital Management, LLC         RT CAPITAL MANAGEMENT, LLC   \n24  Winslow Capital Management, LLC      ALLEN CAPITAL MANAGEMENT, LLC   \n25  Winslow Capital Management, LLC          K CAPITAL MANAGEMENT, LLC   \n26  Winslow Capital Management, LLC        ERS CAPITAL MANAGEMENT, LLC   \n27  Winslow Capital Management, LLC       MILL CAPITAL MANAGEMENT, LLC   \n28  Winslow Capital Management, LLC                  HALL CAPITAL, LLC   \n29  Winslow Capital Management, LLC     MALLET CAPITAL MANAGEMENT, LLC   \n30     Nuveen Asset Management, LLC          LCR ASSET MANAGEMENT, LLC   \n31     Nuveen Asset Management, LLC           RS ASSET MANAGEMENT, LLC   \n32     Nuveen Asset Management, LLC            CALCINE MANAGEMENT, LLC   \n33     Nuveen Asset Management, LLC                  ELC ADVISORS, LLC   \n34     Nuveen Asset Management, LLC          CION ARES MANAGEMENT, LLC   \n35     Nuveen Asset Management, LLC           US ASSET MANAGEMENT, LLC   \n36     Nuveen Asset Management, LLC      ALLARIA ASSET MANAGEMENT, LLC   \n37     Nuveen Asset Management, LLC  WEALTH ADVICE AND MANAGEMENT, LLC   \n38     Nuveen Asset Management, LLC           MA ASSET MANAGEMENT, LLC   \n39     Nuveen Asset Management, LLC                PIS MANAGEMENT, LLC   \n\n    Match confidence  \n0           1.158592  \n1           1.294588  \n2           1.301139  \n3           1.301393  \n4           1.301705  \n5           1.303192  \n6           1.304514  \n7           1.305791  \n8           1.306751  \n9           1.306978  \n10          0.537901  \n11          0.723109  \n12          0.757794  \n13          0.759556  \n14          0.796112  \n15          0.813531  \n16          0.833754  \n17          0.859106  \n18          0.870704  \n19          0.876881  \n20          1.051335  \n21          1.062024  \n22          1.068326  \n23          1.070699  \n24          1.070741  \n25          1.073967  \n26          1.074730  \n27          1.079030  \n28          1.084123  \n29          1.084333  \n30          1.073884  \n31          1.079062  \n32          1.090833  \n33          1.094684  \n34          1.094758  \n35          1.097705  \n36          1.098145  \n37          1.099372  \n38          1.099692  \n39          1.102987  ",
      "text/html": "<div>\n<style scoped>\n    .dataframe tbody tr th:only-of-type {\n        vertical-align: middle;\n    }\n\n    .dataframe tbody tr th {\n        vertical-align: top;\n    }\n\n    .dataframe thead th {\n        text-align: right;\n    }\n</style>\n<table border=\"1\" class=\"dataframe\">\n  <thead>\n    <tr style=\"text-align: right;\">\n      <th></th>\n      <th>Fund Name</th>\n      <th>Matched Firm name</th>\n      <th>Match confidence</th>\n    </tr>\n  </thead>\n  <tbody>\n    <tr>\n      <th>0</th>\n      <td>Katonah Capital Partners LLC</td>\n      <td>H.P. Becker &amp; Co</td>\n      <td>1.158592</td>\n    </tr>\n    <tr>\n      <th>1</th>\n      <td>Katonah Capital Partners LLC</td>\n      <td>TALL PINES CAPITAL, LLC</td>\n      <td>1.294588</td>\n    </tr>\n    <tr>\n      <th>2</th>\n      <td>Katonah Capital Partners LLC</td>\n      <td>RED CELL PARTNERS, LLC</td>\n      <td>1.301139</td>\n    </tr>\n    <tr>\n      <th>3</th>\n      <td>Katonah Capital Partners LLC</td>\n      <td>MILL POINT CAPITAL LLC</td>\n      <td>1.301393</td>\n    </tr>\n    <tr>\n      <th>4</th>\n      <td>Katonah Capital Partners LLC</td>\n      <td>HALL CAPITAL PARTNERS LLC</td>\n      <td>1.301705</td>\n    </tr>\n    <tr>\n      <th>5</th>\n      <td>Katonah Capital Partners LLC</td>\n      <td>TEALL CAPITAL PARTNERS, LLC</td>\n      <td>1.303192</td>\n    </tr>\n    <tr>\n      <th>6</th>\n      <td>Katonah Capital Partners LLC</td>\n      <td>WELCH CAPITAL PARTNERS LLC</td>\n      <td>1.304514</td>\n    </tr>\n    <tr>\n      <th>7</th>\n      <td>Katonah Capital Partners LLC</td>\n      <td>FORT POINT CAPITAL PARTNERS LLC</td>\n      <td>1.305791</td>\n    </tr>\n    <tr>\n      <th>8</th>\n      <td>Katonah Capital Partners LLC</td>\n      <td>GALLANT CAPITAL PARTNERS LLC</td>\n      <td>1.306751</td>\n    </tr>\n    <tr>\n      <th>9</th>\n      <td>Katonah Capital Partners LLC</td>\n      <td>BLUE POINT CAPITAL PARTNERS LLC</td>\n      <td>1.306978</td>\n    </tr>\n    <tr>\n      <th>10</th>\n      <td>TAKUMI CAPITAL MANAGEMENT, LP</td>\n      <td>TAKUMI CAPITAL LLC</td>\n      <td>0.537901</td>\n    </tr>\n    <tr>\n      <th>11</th>\n      <td>TAKUMI CAPITAL MANAGEMENT, LP</td>\n      <td>TOKUM CAPITAL MANAGEMENT, LP</td>\n      <td>0.723109</td>\n    </tr>\n    <tr>\n      <th>12</th>\n      <td>TAKUMI CAPITAL MANAGEMENT, LP</td>\n      <td>AUMAKUA CAPITAL MANAGEMENT LLC</td>\n      <td>0.757794</td>\n    </tr>\n    <tr>\n      <th>13</th>\n      <td>TAKUMI CAPITAL MANAGEMENT, LP</td>\n      <td>KULI CAPITAL MANAGEMENT</td>\n      <td>0.759556</td>\n    </tr>\n    <tr>\n      <th>14</th>\n      <td>TAKUMI CAPITAL MANAGEMENT, LP</td>\n      <td>LUMINARI CAPITAL MANAGEMENT, LLC</td>\n      <td>0.796112</td>\n    </tr>\n    <tr>\n      <th>15</th>\n      <td>TAKUMI CAPITAL MANAGEMENT, LP</td>\n      <td>KUMA CAPITAL LLC</td>\n      <td>0.813531</td>\n    </tr>\n    <tr>\n      <th>16</th>\n      <td>TAKUMI CAPITAL MANAGEMENT, LP</td>\n      <td>PI CAPITAL MANAGEMENT, LLC</td>\n      <td>0.833754</td>\n    </tr>\n    <tr>\n      <th>17</th>\n      <td>TAKUMI CAPITAL MANAGEMENT, LP</td>\n      <td>MIKUS CAPITAL MANAGEMENT, INC.</td>\n      <td>0.859106</td>\n    </tr>\n    <tr>\n      <th>18</th>\n      <td>TAKUMI CAPITAL MANAGEMENT, LP</td>\n      <td>MEDERI CAPITAL MANAGEMENT, LP</td>\n      <td>0.870704</td>\n    </tr>\n    <tr>\n      <th>19</th>\n      <td>TAKUMI CAPITAL MANAGEMENT, LP</td>\n      <td>KUBER CAPITAL MANAGEMENT, LLC</td>\n      <td>0.876881</td>\n    </tr>\n    <tr>\n      <th>20</th>\n      <td>Winslow Capital Management, LLC</td>\n      <td>ALC CAPITAL MANAGEMENT, LLC</td>\n      <td>1.051335</td>\n    </tr>\n    <tr>\n      <th>21</th>\n      <td>Winslow Capital Management, LLC</td>\n      <td>R L CAPITAL, LLC</td>\n      <td>1.062024</td>\n    </tr>\n    <tr>\n      <th>22</th>\n      <td>Winslow Capital Management, LLC</td>\n      <td>L CAPITAL, LLC</td>\n      <td>1.068326</td>\n    </tr>\n    <tr>\n      <th>23</th>\n      <td>Winslow Capital Management, LLC</td>\n      <td>RT CAPITAL MANAGEMENT, LLC</td>\n      <td>1.070699</td>\n    </tr>\n    <tr>\n      <th>24</th>\n      <td>Winslow Capital Management, LLC</td>\n      <td>ALLEN CAPITAL MANAGEMENT, LLC</td>\n      <td>1.070741</td>\n    </tr>\n    <tr>\n      <th>25</th>\n      <td>Winslow Capital Management, LLC</td>\n      <td>K CAPITAL MANAGEMENT, LLC</td>\n      <td>1.073967</td>\n    </tr>\n    <tr>\n      <th>26</th>\n      <td>Winslow Capital Management, LLC</td>\n      <td>ERS CAPITAL MANAGEMENT, LLC</td>\n      <td>1.074730</td>\n    </tr>\n    <tr>\n      <th>27</th>\n      <td>Winslow Capital Management, LLC</td>\n      <td>MILL CAPITAL MANAGEMENT, LLC</td>\n      <td>1.079030</td>\n    </tr>\n    <tr>\n      <th>28</th>\n      <td>Winslow Capital Management, LLC</td>\n      <td>HALL CAPITAL, LLC</td>\n      <td>1.084123</td>\n    </tr>\n    <tr>\n      <th>29</th>\n      <td>Winslow Capital Management, LLC</td>\n      <td>MALLET CAPITAL MANAGEMENT, LLC</td>\n      <td>1.084333</td>\n    </tr>\n    <tr>\n      <th>30</th>\n      <td>Nuveen Asset Management, LLC</td>\n      <td>LCR ASSET MANAGEMENT, LLC</td>\n      <td>1.073884</td>\n    </tr>\n    <tr>\n      <th>31</th>\n      <td>Nuveen Asset Management, LLC</td>\n      <td>RS ASSET MANAGEMENT, LLC</td>\n      <td>1.079062</td>\n    </tr>\n    <tr>\n      <th>32</th>\n      <td>Nuveen Asset Management, LLC</td>\n      <td>CALCINE MANAGEMENT, LLC</td>\n      <td>1.090833</td>\n    </tr>\n    <tr>\n      <th>33</th>\n      <td>Nuveen Asset Management, LLC</td>\n      <td>ELC ADVISORS, LLC</td>\n      <td>1.094684</td>\n    </tr>\n    <tr>\n      <th>34</th>\n      <td>Nuveen Asset Management, LLC</td>\n      <td>CION ARES MANAGEMENT, LLC</td>\n      <td>1.094758</td>\n    </tr>\n    <tr>\n      <th>35</th>\n      <td>Nuveen Asset Management, LLC</td>\n      <td>US ASSET MANAGEMENT, LLC</td>\n      <td>1.097705</td>\n    </tr>\n    <tr>\n      <th>36</th>\n      <td>Nuveen Asset Management, LLC</td>\n      <td>ALLARIA ASSET MANAGEMENT, LLC</td>\n      <td>1.098145</td>\n    </tr>\n    <tr>\n      <th>37</th>\n      <td>Nuveen Asset Management, LLC</td>\n      <td>WEALTH ADVICE AND MANAGEMENT, LLC</td>\n      <td>1.099372</td>\n    </tr>\n    <tr>\n      <th>38</th>\n      <td>Nuveen Asset Management, LLC</td>\n      <td>MA ASSET MANAGEMENT, LLC</td>\n      <td>1.099692</td>\n    </tr>\n    <tr>\n      <th>39</th>\n      <td>Nuveen Asset Management, LLC</td>\n      <td>PIS MANAGEMENT, LLC</td>\n      <td>1.102987</td>\n    </tr>\n  </tbody>\n</table>\n</div>"
     },
     "execution_count": 51,
     "metadata": {},
     "output_type": "execute_result"
    }
   ],
   "source": [
    "matches_names"
   ],
   "metadata": {
    "collapsed": false
   }
  }
 ],
 "metadata": {
  "kernelspec": {
   "display_name": "Python 3",
   "language": "python",
   "name": "python3"
  },
  "language_info": {
   "codemirror_mode": {
    "name": "ipython",
    "version": 2
   },
   "file_extension": ".py",
   "mimetype": "text/x-python",
   "name": "python",
   "nbconvert_exporter": "python",
   "pygments_lexer": "ipython2",
   "version": "2.7.6"
  }
 },
 "nbformat": 4,
 "nbformat_minor": 0
}
